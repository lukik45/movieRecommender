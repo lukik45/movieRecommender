{
 "cells": [
  {
   "cell_type": "markdown",
   "metadata": {},
   "source": [
    "## Movie recommender - Using association rules\n",
    "\n",
    "I will describe all the steps for deriving positive recommendations (negative recommendations are obtained in the same way)."
   ]
  },
  {
   "cell_type": "code",
   "execution_count": 399,
   "metadata": {},
   "outputs": [],
   "source": [
    "# imports\n",
    "import numpy as np\n",
    "import pandas as pd\n",
    "import mlxtend\n",
    "from mlxtend.preprocessing import TransactionEncoder\n",
    "from mlxtend.frequent_patterns import apriori\n",
    "from mlxtend.frequent_patterns import association_rules\n",
    "\n",
    "\n"
   ]
  },
  {
   "cell_type": "markdown",
   "metadata": {},
   "source": [
    "An utility function to find id by the title of a movie"
   ]
  },
  {
   "cell_type": "code",
   "execution_count": 400,
   "metadata": {},
   "outputs": [],
   "source": [
    "def title_to_id(df, title):\n",
    "    matched = df.loc[df.title.str.contains(title, case = False)]\n",
    "    print(matched)\n",
    "    n_rows, _ = matched.shape\n",
    "    if n_rows == 1:\n",
    "        return int(matched.movieId)\n",
    "    print('Specify the title better')\n",
    "    return None"
   ]
  },
  {
   "cell_type": "markdown",
   "metadata": {},
   "source": [
    "Loading datasets\n",
    "> I drop the columns that are irrelevant for the research"
   ]
  },
  {
   "cell_type": "code",
   "execution_count": 401,
   "metadata": {},
   "outputs": [],
   "source": [
    "movies = pd.read_csv('data/movies.csv', sep=',')\n",
    "movies.drop('genres', inplace=True, axis=1)\n",
    "# print(movies.shape)\n",
    "# print(movies.dtypes)\n",
    "# movies.head()"
   ]
  },
  {
   "cell_type": "code",
   "execution_count": 402,
   "metadata": {},
   "outputs": [],
   "source": [
    "ratings = pd.read_csv('data/ratings.csv' )\n",
    "ratings.drop('timestamp', inplace=True, axis=1)\n",
    "# print(len(ratings.userId.unique()))\n",
    "# print(ratings.describe())\n",
    "# print(ratings.dtypes)\n",
    "# print(ratings.shape)\n",
    "# ratings.head()"
   ]
  },
  {
   "cell_type": "markdown",
   "metadata": {},
   "source": [
    "Filtering the ratings that are treated as positive"
   ]
  },
  {
   "cell_type": "code",
   "execution_count": 403,
   "metadata": {},
   "outputs": [
    {
     "name": "stdout",
     "output_type": "stream",
     "text": [
      "(51568, 2)\n"
     ]
    },
    {
     "data": {
      "text/html": [
       "<div>\n",
       "<style scoped>\n",
       "    .dataframe tbody tr th:only-of-type {\n",
       "        vertical-align: middle;\n",
       "    }\n",
       "\n",
       "    .dataframe tbody tr th {\n",
       "        vertical-align: top;\n",
       "    }\n",
       "\n",
       "    .dataframe thead th {\n",
       "        text-align: right;\n",
       "    }\n",
       "</style>\n",
       "<table border=\"1\" class=\"dataframe\">\n",
       "  <thead>\n",
       "    <tr style=\"text-align: right;\">\n",
       "      <th></th>\n",
       "      <th>userId</th>\n",
       "      <th>movieId</th>\n",
       "    </tr>\n",
       "  </thead>\n",
       "  <tbody>\n",
       "    <tr>\n",
       "      <th>4</th>\n",
       "      <td>1</td>\n",
       "      <td>1172</td>\n",
       "    </tr>\n",
       "    <tr>\n",
       "      <th>12</th>\n",
       "      <td>1</td>\n",
       "      <td>1953</td>\n",
       "    </tr>\n",
       "    <tr>\n",
       "      <th>13</th>\n",
       "      <td>1</td>\n",
       "      <td>2105</td>\n",
       "    </tr>\n",
       "    <tr>\n",
       "      <th>20</th>\n",
       "      <td>2</td>\n",
       "      <td>10</td>\n",
       "    </tr>\n",
       "    <tr>\n",
       "      <th>21</th>\n",
       "      <td>2</td>\n",
       "      <td>17</td>\n",
       "    </tr>\n",
       "  </tbody>\n",
       "</table>\n",
       "</div>"
      ],
      "text/plain": [
       "    userId  movieId\n",
       "4        1     1172\n",
       "12       1     1953\n",
       "13       1     2105\n",
       "20       2       10\n",
       "21       2       17"
      ]
     },
     "execution_count": 403,
     "metadata": {},
     "output_type": "execute_result"
    }
   ],
   "source": [
    "positive_ratings = ratings[ratings.rating >=4.0].drop('rating', axis=1)\n",
    "print(positive_ratings.shape)\n",
    "positive_ratings.head()"
   ]
  },
  {
   "cell_type": "code",
   "execution_count": 404,
   "metadata": {},
   "outputs": [
    {
     "name": "stdout",
     "output_type": "stream",
     "text": [
      "(13385, 2)\n"
     ]
    },
    {
     "data": {
      "text/html": [
       "<div>\n",
       "<style scoped>\n",
       "    .dataframe tbody tr th:only-of-type {\n",
       "        vertical-align: middle;\n",
       "    }\n",
       "\n",
       "    .dataframe tbody tr th {\n",
       "        vertical-align: top;\n",
       "    }\n",
       "\n",
       "    .dataframe thead th {\n",
       "        text-align: right;\n",
       "    }\n",
       "</style>\n",
       "<table border=\"1\" class=\"dataframe\">\n",
       "  <thead>\n",
       "    <tr style=\"text-align: right;\">\n",
       "      <th></th>\n",
       "      <th>userId</th>\n",
       "      <th>movieId</th>\n",
       "    </tr>\n",
       "  </thead>\n",
       "  <tbody>\n",
       "    <tr>\n",
       "      <th>3</th>\n",
       "      <td>1</td>\n",
       "      <td>1129</td>\n",
       "    </tr>\n",
       "    <tr>\n",
       "      <th>5</th>\n",
       "      <td>1</td>\n",
       "      <td>1263</td>\n",
       "    </tr>\n",
       "    <tr>\n",
       "      <th>6</th>\n",
       "      <td>1</td>\n",
       "      <td>1287</td>\n",
       "    </tr>\n",
       "    <tr>\n",
       "      <th>7</th>\n",
       "      <td>1</td>\n",
       "      <td>1293</td>\n",
       "    </tr>\n",
       "    <tr>\n",
       "      <th>9</th>\n",
       "      <td>1</td>\n",
       "      <td>1343</td>\n",
       "    </tr>\n",
       "  </tbody>\n",
       "</table>\n",
       "</div>"
      ],
      "text/plain": [
       "   userId  movieId\n",
       "3       1     1129\n",
       "5       1     1263\n",
       "6       1     1287\n",
       "7       1     1293\n",
       "9       1     1343"
      ]
     },
     "execution_count": 404,
     "metadata": {},
     "output_type": "execute_result"
    }
   ],
   "source": [
    "negative_ratings = ratings[ratings.rating <=2.0].drop('rating', axis= 1)\n",
    "print(negative_ratings.shape)\n",
    "negative_ratings.head()"
   ]
  },
  {
   "cell_type": "code",
   "execution_count": 405,
   "metadata": {},
   "outputs": [],
   "source": [
    "users = ratings.userId.unique()"
   ]
  },
  {
   "cell_type": "markdown",
   "metadata": {},
   "source": [
    "I transform ratings into the llist of transactions\n",
    "\n",
    "- user --> transaction index\n",
    "- all ratings of a given user --> itemset "
   ]
  },
  {
   "cell_type": "code",
   "execution_count": 406,
   "metadata": {},
   "outputs": [],
   "source": [
    "\n",
    "positive_transactions = dict.fromkeys(users, list())\n",
    "negative_transactions = dict.fromkeys(users, list())\n",
    "\n",
    "for i, row in positive_ratings.iterrows():\n",
    "    positive_transactions[row.userId].append(row.movieId)\n",
    "\n",
    "\n",
    "for i, row in negative_ratings.iterrows():\n",
    "    negative_transactions[row.userId].append(row.movieId)\n"
   ]
  },
  {
   "cell_type": "code",
   "execution_count": 407,
   "metadata": {},
   "outputs": [],
   "source": [
    "positive_transactions = []\n",
    "negative_transactions = []\n",
    "\n",
    "for u in users:\n",
    "    p_list= list(positive_ratings[positive_ratings.userId == u].movieId)\n",
    "    if len(p_list)>0 : positive_transactions.append(p_list)\n",
    "    n_list= list(negative_ratings[negative_ratings.userId == u].movieId)\n",
    "    if len(n_list)>0 : negative_transactions.append(n_list)\n",
    "\n"
   ]
  },
  {
   "cell_type": "markdown",
   "metadata": {},
   "source": [
    "### Creating positive recommender"
   ]
  },
  {
   "cell_type": "markdown",
   "metadata": {},
   "source": [
    "I find the indices of given movies"
   ]
  },
  {
   "cell_type": "code",
   "execution_count": 408,
   "metadata": {},
   "outputs": [
    {
     "name": "stdout",
     "output_type": "stream",
     "text": [
      "     movieId                title\n",
      "266      296  Pulp Fiction (1994)\n",
      "     movieId                  title\n",
      "880     1089  Reservoir Dogs (1992)\n"
     ]
    }
   ],
   "source": [
    "pulp_id = title_to_id(movies, 'Pulp Fiction')\n",
    "re_dogs_id = title_to_id(movies, 'Reservoir Dog')"
   ]
  },
  {
   "cell_type": "markdown",
   "metadata": {},
   "source": [
    "I transform the list of transactions into a list of boolean flags"
   ]
  },
  {
   "cell_type": "code",
   "execution_count": 409,
   "metadata": {},
   "outputs": [],
   "source": [
    "te = TransactionEncoder()\n",
    "\n",
    "te_array = te.fit(positive_transactions).transform(positive_transactions)\n",
    "\n",
    "# te_array\n"
   ]
  },
  {
   "cell_type": "markdown",
   "metadata": {},
   "source": [
    "Apriori algorithm takes `pd.DataFrame` as the input"
   ]
  },
  {
   "cell_type": "code",
   "execution_count": 410,
   "metadata": {},
   "outputs": [],
   "source": [
    "df = pd.DataFrame(te_array, columns=te.columns_)"
   ]
  },
  {
   "cell_type": "markdown",
   "metadata": {},
   "source": [
    "I look for the support of the itemset (Pulp Fiction, Reservoir Dogs)"
   ]
  },
  {
   "cell_type": "code",
   "execution_count": 411,
   "metadata": {},
   "outputs": [
    {
     "data": {
      "text/html": [
       "<div>\n",
       "<style scoped>\n",
       "    .dataframe tbody tr th:only-of-type {\n",
       "        vertical-align: middle;\n",
       "    }\n",
       "\n",
       "    .dataframe tbody tr th {\n",
       "        vertical-align: top;\n",
       "    }\n",
       "\n",
       "    .dataframe thead th {\n",
       "        text-align: right;\n",
       "    }\n",
       "</style>\n",
       "<table border=\"1\" class=\"dataframe\">\n",
       "  <thead>\n",
       "    <tr style=\"text-align: right;\">\n",
       "      <th></th>\n",
       "      <th>support</th>\n",
       "      <th>itemsets</th>\n",
       "    </tr>\n",
       "  </thead>\n",
       "  <tbody>\n",
       "    <tr>\n",
       "      <th>1027</th>\n",
       "      <td>0.135618</td>\n",
       "      <td>(296, 1089)</td>\n",
       "    </tr>\n",
       "  </tbody>\n",
       "</table>\n",
       "</div>"
      ],
      "text/plain": [
       "       support     itemsets\n",
       "1027  0.135618  (296, 1089)"
      ]
     },
     "execution_count": 411,
     "metadata": {},
     "output_type": "execute_result"
    }
   ],
   "source": [
    "frequent_itemsets = apriori(df, min_support=0.05, use_colnames=True)\n",
    "watched_idx = frequent_itemsets['itemsets'].apply(\n",
    "            lambda x: x == frozenset({pulp_id, re_dogs_id}))\n",
    "\n",
    "frequent_itemsets[watched_idx]"
   ]
  },
  {
   "cell_type": "markdown",
   "metadata": {},
   "source": [
    "I know that the `min_support` can't be grater than 0.136, because this is the support of seeing both (Pulp Fiction, Reservoir Dogs) in one transaction.\n",
    "\n",
    "I apply `apriori` on the transaction list\n",
    "- I set `min_support` = 0.07 (< 0.136) using trial and error method"
   ]
  },
  {
   "cell_type": "code",
   "execution_count": 412,
   "metadata": {},
   "outputs": [],
   "source": [
    "frequent_itemsets = apriori(df, min_support=0.07, use_colnames=True)\n",
    "\n",
    "#frequent_itemsets"
   ]
  },
  {
   "cell_type": "markdown",
   "metadata": {},
   "source": [
    "Rules generation\n",
    "- I set the `min_threshold` high enough not to generate too many rules"
   ]
  },
  {
   "cell_type": "code",
   "execution_count": 413,
   "metadata": {},
   "outputs": [],
   "source": [
    "rules = association_rules(frequent_itemsets, metric= 'confidence', min_threshold=0.5)"
   ]
  },
  {
   "cell_type": "code",
   "execution_count": 414,
   "metadata": {},
   "outputs": [
    {
     "data": {
      "text/html": [
       "<div>\n",
       "<style scoped>\n",
       "    .dataframe tbody tr th:only-of-type {\n",
       "        vertical-align: middle;\n",
       "    }\n",
       "\n",
       "    .dataframe tbody tr th {\n",
       "        vertical-align: top;\n",
       "    }\n",
       "\n",
       "    .dataframe thead th {\n",
       "        text-align: right;\n",
       "    }\n",
       "</style>\n",
       "<table border=\"1\" class=\"dataframe\">\n",
       "  <thead>\n",
       "    <tr style=\"text-align: right;\">\n",
       "      <th></th>\n",
       "      <th>antecedents</th>\n",
       "      <th>consequents</th>\n",
       "      <th>antecedent support</th>\n",
       "      <th>consequent support</th>\n",
       "      <th>support</th>\n",
       "      <th>confidence</th>\n",
       "      <th>lift</th>\n",
       "      <th>leverage</th>\n",
       "      <th>conviction</th>\n",
       "    </tr>\n",
       "  </thead>\n",
       "  <tbody>\n",
       "    <tr>\n",
       "      <th>2124</th>\n",
       "      <td>(296, 1089)</td>\n",
       "      <td>(593)</td>\n",
       "      <td>0.135618</td>\n",
       "      <td>0.356185</td>\n",
       "      <td>0.093890</td>\n",
       "      <td>0.692308</td>\n",
       "      <td>1.943676</td>\n",
       "      <td>0.045584</td>\n",
       "      <td>2.092399</td>\n",
       "    </tr>\n",
       "    <tr>\n",
       "      <th>1971</th>\n",
       "      <td>(296, 1089)</td>\n",
       "      <td>(318)</td>\n",
       "      <td>0.135618</td>\n",
       "      <td>0.408346</td>\n",
       "      <td>0.090909</td>\n",
       "      <td>0.670330</td>\n",
       "      <td>1.641574</td>\n",
       "      <td>0.035530</td>\n",
       "      <td>1.794685</td>\n",
       "    </tr>\n",
       "    <tr>\n",
       "      <th>2201</th>\n",
       "      <td>(296, 1089)</td>\n",
       "      <td>(858)</td>\n",
       "      <td>0.135618</td>\n",
       "      <td>0.265276</td>\n",
       "      <td>0.089419</td>\n",
       "      <td>0.659341</td>\n",
       "      <td>2.485492</td>\n",
       "      <td>0.053442</td>\n",
       "      <td>2.156771</td>\n",
       "    </tr>\n",
       "    <tr>\n",
       "      <th>2260</th>\n",
       "      <td>(296, 1089)</td>\n",
       "      <td>(2858)</td>\n",
       "      <td>0.135618</td>\n",
       "      <td>0.268256</td>\n",
       "      <td>0.087928</td>\n",
       "      <td>0.648352</td>\n",
       "      <td>2.416911</td>\n",
       "      <td>0.051548</td>\n",
       "      <td>2.080896</td>\n",
       "    </tr>\n",
       "    <tr>\n",
       "      <th>2180</th>\n",
       "      <td>(296, 1089)</td>\n",
       "      <td>(608)</td>\n",
       "      <td>0.135618</td>\n",
       "      <td>0.274218</td>\n",
       "      <td>0.083458</td>\n",
       "      <td>0.615385</td>\n",
       "      <td>2.244147</td>\n",
       "      <td>0.046269</td>\n",
       "      <td>1.887034</td>\n",
       "    </tr>\n",
       "    <tr>\n",
       "      <th>2253</th>\n",
       "      <td>(296, 1089)</td>\n",
       "      <td>(1213)</td>\n",
       "      <td>0.135618</td>\n",
       "      <td>0.149031</td>\n",
       "      <td>0.083458</td>\n",
       "      <td>0.615385</td>\n",
       "      <td>4.129231</td>\n",
       "      <td>0.063246</td>\n",
       "      <td>2.212519</td>\n",
       "    </tr>\n",
       "    <tr>\n",
       "      <th>2264</th>\n",
       "      <td>(296, 1089)</td>\n",
       "      <td>(2959)</td>\n",
       "      <td>0.135618</td>\n",
       "      <td>0.235469</td>\n",
       "      <td>0.081967</td>\n",
       "      <td>0.604396</td>\n",
       "      <td>2.566769</td>\n",
       "      <td>0.050033</td>\n",
       "      <td>1.932563</td>\n",
       "    </tr>\n",
       "    <tr>\n",
       "      <th>1037</th>\n",
       "      <td>(296, 1089)</td>\n",
       "      <td>(50)</td>\n",
       "      <td>0.135618</td>\n",
       "      <td>0.257824</td>\n",
       "      <td>0.080477</td>\n",
       "      <td>0.593407</td>\n",
       "      <td>2.301594</td>\n",
       "      <td>0.045511</td>\n",
       "      <td>1.825351</td>\n",
       "    </tr>\n",
       "    <tr>\n",
       "      <th>893</th>\n",
       "      <td>(296, 1089)</td>\n",
       "      <td>(47)</td>\n",
       "      <td>0.135618</td>\n",
       "      <td>0.217586</td>\n",
       "      <td>0.078987</td>\n",
       "      <td>0.582418</td>\n",
       "      <td>2.676727</td>\n",
       "      <td>0.049478</td>\n",
       "      <td>1.873676</td>\n",
       "    </tr>\n",
       "    <tr>\n",
       "      <th>1379</th>\n",
       "      <td>(296, 1089)</td>\n",
       "      <td>(260)</td>\n",
       "      <td>0.135618</td>\n",
       "      <td>0.345753</td>\n",
       "      <td>0.078987</td>\n",
       "      <td>0.582418</td>\n",
       "      <td>1.684492</td>\n",
       "      <td>0.032096</td>\n",
       "      <td>1.566750</td>\n",
       "    </tr>\n",
       "    <tr>\n",
       "      <th>2250</th>\n",
       "      <td>(296, 1089)</td>\n",
       "      <td>(1198)</td>\n",
       "      <td>0.135618</td>\n",
       "      <td>0.265276</td>\n",
       "      <td>0.076006</td>\n",
       "      <td>0.560440</td>\n",
       "      <td>2.112668</td>\n",
       "      <td>0.040030</td>\n",
       "      <td>1.671498</td>\n",
       "    </tr>\n",
       "    <tr>\n",
       "      <th>2245</th>\n",
       "      <td>(296, 1089)</td>\n",
       "      <td>(1193)</td>\n",
       "      <td>0.135618</td>\n",
       "      <td>0.169896</td>\n",
       "      <td>0.073025</td>\n",
       "      <td>0.538462</td>\n",
       "      <td>3.169366</td>\n",
       "      <td>0.049984</td>\n",
       "      <td>1.798559</td>\n",
       "    </tr>\n",
       "    <tr>\n",
       "      <th>2258</th>\n",
       "      <td>(296, 1089)</td>\n",
       "      <td>(2571)</td>\n",
       "      <td>0.135618</td>\n",
       "      <td>0.292101</td>\n",
       "      <td>0.071535</td>\n",
       "      <td>0.527473</td>\n",
       "      <td>1.805786</td>\n",
       "      <td>0.031921</td>\n",
       "      <td>1.498111</td>\n",
       "    </tr>\n",
       "    <tr>\n",
       "      <th>5987</th>\n",
       "      <td>(296, 1089)</td>\n",
       "      <td>(593, 2858)</td>\n",
       "      <td>0.135618</td>\n",
       "      <td>0.157973</td>\n",
       "      <td>0.071535</td>\n",
       "      <td>0.527473</td>\n",
       "      <td>3.339001</td>\n",
       "      <td>0.050111</td>\n",
       "      <td>1.781964</td>\n",
       "    </tr>\n",
       "    <tr>\n",
       "      <th>2248</th>\n",
       "      <td>(296, 1089)</td>\n",
       "      <td>(1196)</td>\n",
       "      <td>0.135618</td>\n",
       "      <td>0.281669</td>\n",
       "      <td>0.070045</td>\n",
       "      <td>0.516484</td>\n",
       "      <td>1.833653</td>\n",
       "      <td>0.031845</td>\n",
       "      <td>1.485639</td>\n",
       "    </tr>\n",
       "    <tr>\n",
       "      <th>5944</th>\n",
       "      <td>(296, 1089)</td>\n",
       "      <td>(593, 858)</td>\n",
       "      <td>0.135618</td>\n",
       "      <td>0.146051</td>\n",
       "      <td>0.070045</td>\n",
       "      <td>0.516484</td>\n",
       "      <td>3.536331</td>\n",
       "      <td>0.050238</td>\n",
       "      <td>1.766122</td>\n",
       "    </tr>\n",
       "  </tbody>\n",
       "</table>\n",
       "</div>"
      ],
      "text/plain": [
       "      antecedents  consequents  antecedent support  consequent support  \\\n",
       "2124  (296, 1089)        (593)            0.135618            0.356185   \n",
       "1971  (296, 1089)        (318)            0.135618            0.408346   \n",
       "2201  (296, 1089)        (858)            0.135618            0.265276   \n",
       "2260  (296, 1089)       (2858)            0.135618            0.268256   \n",
       "2180  (296, 1089)        (608)            0.135618            0.274218   \n",
       "2253  (296, 1089)       (1213)            0.135618            0.149031   \n",
       "2264  (296, 1089)       (2959)            0.135618            0.235469   \n",
       "1037  (296, 1089)         (50)            0.135618            0.257824   \n",
       "893   (296, 1089)         (47)            0.135618            0.217586   \n",
       "1379  (296, 1089)        (260)            0.135618            0.345753   \n",
       "2250  (296, 1089)       (1198)            0.135618            0.265276   \n",
       "2245  (296, 1089)       (1193)            0.135618            0.169896   \n",
       "2258  (296, 1089)       (2571)            0.135618            0.292101   \n",
       "5987  (296, 1089)  (593, 2858)            0.135618            0.157973   \n",
       "2248  (296, 1089)       (1196)            0.135618            0.281669   \n",
       "5944  (296, 1089)   (593, 858)            0.135618            0.146051   \n",
       "\n",
       "       support  confidence      lift  leverage  conviction  \n",
       "2124  0.093890    0.692308  1.943676  0.045584    2.092399  \n",
       "1971  0.090909    0.670330  1.641574  0.035530    1.794685  \n",
       "2201  0.089419    0.659341  2.485492  0.053442    2.156771  \n",
       "2260  0.087928    0.648352  2.416911  0.051548    2.080896  \n",
       "2180  0.083458    0.615385  2.244147  0.046269    1.887034  \n",
       "2253  0.083458    0.615385  4.129231  0.063246    2.212519  \n",
       "2264  0.081967    0.604396  2.566769  0.050033    1.932563  \n",
       "1037  0.080477    0.593407  2.301594  0.045511    1.825351  \n",
       "893   0.078987    0.582418  2.676727  0.049478    1.873676  \n",
       "1379  0.078987    0.582418  1.684492  0.032096    1.566750  \n",
       "2250  0.076006    0.560440  2.112668  0.040030    1.671498  \n",
       "2245  0.073025    0.538462  3.169366  0.049984    1.798559  \n",
       "2258  0.071535    0.527473  1.805786  0.031921    1.498111  \n",
       "5987  0.071535    0.527473  3.339001  0.050111    1.781964  \n",
       "2248  0.070045    0.516484  1.833653  0.031845    1.485639  \n",
       "5944  0.070045    0.516484  3.536331  0.050238    1.766122  "
      ]
     },
     "execution_count": 414,
     "metadata": {},
     "output_type": "execute_result"
    }
   ],
   "source": [
    "watched_idx = rules['antecedents'].apply(\n",
    "            lambda x: x == frozenset({pulp_id, re_dogs_id}))\n",
    "\n",
    "propositions = rules[watched_idx].sort_values(by=['confidence'], axis=0, ascending=False)\n",
    "propositions"
   ]
  },
  {
   "cell_type": "markdown",
   "metadata": {},
   "source": [
    "I take 5 rules with the highest confidence. Rules' consequents are the movies that are recommended to watch."
   ]
  },
  {
   "cell_type": "code",
   "execution_count": 415,
   "metadata": {},
   "outputs": [],
   "source": [
    "proposition_ids = propositions.iloc[0:5, 1]\n",
    "proposition_ids = frozenset().union(*proposition_ids)\n",
    "# proposition_ids"
   ]
  },
  {
   "cell_type": "markdown",
   "metadata": {},
   "source": [
    "If you like **Pulp Fiction** and **Reservoir Dogs** then you will enjoy these 5 movies:"
   ]
  },
  {
   "cell_type": "code",
   "execution_count": 416,
   "metadata": {},
   "outputs": [
    {
     "data": {
      "text/html": [
       "<div>\n",
       "<style scoped>\n",
       "    .dataframe tbody tr th:only-of-type {\n",
       "        vertical-align: middle;\n",
       "    }\n",
       "\n",
       "    .dataframe tbody tr th {\n",
       "        vertical-align: top;\n",
       "    }\n",
       "\n",
       "    .dataframe thead th {\n",
       "        text-align: right;\n",
       "    }\n",
       "</style>\n",
       "<table border=\"1\" class=\"dataframe\">\n",
       "  <thead>\n",
       "    <tr style=\"text-align: right;\">\n",
       "      <th></th>\n",
       "      <th>movieId</th>\n",
       "      <th>title</th>\n",
       "    </tr>\n",
       "  </thead>\n",
       "  <tbody>\n",
       "    <tr>\n",
       "      <th>284</th>\n",
       "      <td>318</td>\n",
       "      <td>Shawshank Redemption, The (1994)</td>\n",
       "    </tr>\n",
       "    <tr>\n",
       "      <th>525</th>\n",
       "      <td>593</td>\n",
       "      <td>Silence of the Lambs, The (1991)</td>\n",
       "    </tr>\n",
       "    <tr>\n",
       "      <th>535</th>\n",
       "      <td>608</td>\n",
       "      <td>Fargo (1996)</td>\n",
       "    </tr>\n",
       "    <tr>\n",
       "      <th>695</th>\n",
       "      <td>858</td>\n",
       "      <td>Godfather, The (1972)</td>\n",
       "    </tr>\n",
       "    <tr>\n",
       "      <th>2288</th>\n",
       "      <td>2858</td>\n",
       "      <td>American Beauty (1999)</td>\n",
       "    </tr>\n",
       "  </tbody>\n",
       "</table>\n",
       "</div>"
      ],
      "text/plain": [
       "      movieId                             title\n",
       "284       318  Shawshank Redemption, The (1994)\n",
       "525       593  Silence of the Lambs, The (1991)\n",
       "535       608                      Fargo (1996)\n",
       "695       858             Godfather, The (1972)\n",
       "2288     2858            American Beauty (1999)"
      ]
     },
     "execution_count": 416,
     "metadata": {},
     "output_type": "execute_result"
    }
   ],
   "source": [
    "f = movies.movieId.isin(proposition_ids)\n",
    "movies[f]"
   ]
  },
  {
   "cell_type": "markdown",
   "metadata": {},
   "source": [
    "### Creating negative recommender\n",
    "\n",
    "The process of finding movies that are advised not to watch if one hates \"The Mask\" works the same as the previous one, so I believe there is no need to describe it in details."
   ]
  },
  {
   "cell_type": "code",
   "execution_count": 417,
   "metadata": {},
   "outputs": [],
   "source": [
    "# transforming the data into boolean values\n",
    "\n",
    "te = TransactionEncoder()\n",
    "\n",
    "te_array = te.fit(negative_transactions).transform(negative_transactions)\n",
    "\n",
    "df = pd.DataFrame(te_array, columns=te.columns_)"
   ]
  },
  {
   "cell_type": "code",
   "execution_count": 418,
   "metadata": {},
   "outputs": [],
   "source": [
    "# Applying `apriori` on our dataset\n",
    "# the mask itself has the support 0.052\n",
    "frequent_itemsets = apriori(df, min_support=0.01, use_colnames=True)\n",
    "# frequent_itemsets"
   ]
  },
  {
   "cell_type": "code",
   "execution_count": 419,
   "metadata": {},
   "outputs": [],
   "source": [
    "# rules generation\n",
    "\n",
    "rules = association_rules(frequent_itemsets, metric= 'confidence', min_threshold=0.25)\n",
    "#rules\n"
   ]
  },
  {
   "cell_type": "code",
   "execution_count": 420,
   "metadata": {},
   "outputs": [
    {
     "name": "stdout",
     "output_type": "stream",
     "text": [
      "      movieId                                              title\n",
      "331       367                                   Mask, The (1994)\n",
      "1404     1801                   Man in the Iron Mask, The (1998)\n",
      "1568     2006                          Mask of Zorro, The (1998)\n",
      "2087     2609              King of Masks, The (Bian Lian) (1996)\n",
      "2100     2625                        Black Mask (Hak hap) (1996)\n",
      "2583     3213                Batman: Mask of the Phantasm (1993)\n",
      "5586     8880                                        Mask (1985)\n",
      "6246    37857                                  MirrorMask (2005)\n",
      "6767    54910  Behind the Mask: The Rise of Leslie Vernon (2006)\n",
      "6972    59846                              Iron Mask, The (1929)\n",
      "Specify the title better\n"
     ]
    }
   ],
   "source": [
    "# getting the index of a movie\n",
    "mask_id = title_to_id(movies, 'mask')\n",
    "mask_id = 367  # I specified the index of the right movie by hand"
   ]
  },
  {
   "cell_type": "code",
   "execution_count": 421,
   "metadata": {},
   "outputs": [],
   "source": [
    "# filtering rules\n",
    "watched_idx = rules['antecedents'].apply(\n",
    "            lambda x: x == frozenset({mask_id}))\n",
    "\n",
    "rejections = rules[watched_idx].sort_values(by=['confidence'], axis=0, ascending=False)\n",
    "# rejections"
   ]
  },
  {
   "cell_type": "code",
   "execution_count": 422,
   "metadata": {},
   "outputs": [],
   "source": [
    "rejection_ids = rejections.iloc[0:5, 1]\n",
    "rejection_ids = frozenset().union(*rejection_ids)\n",
    "#rejection_ids"
   ]
  },
  {
   "cell_type": "markdown",
   "metadata": {},
   "source": [
    "These are 4 movies you should not watch if you haven't enjoyed **The Mask** "
   ]
  },
  {
   "cell_type": "code",
   "execution_count": 423,
   "metadata": {},
   "outputs": [
    {
     "data": {
      "text/html": [
       "<div>\n",
       "<style scoped>\n",
       "    .dataframe tbody tr th:only-of-type {\n",
       "        vertical-align: middle;\n",
       "    }\n",
       "\n",
       "    .dataframe tbody tr th {\n",
       "        vertical-align: top;\n",
       "    }\n",
       "\n",
       "    .dataframe thead th {\n",
       "        text-align: right;\n",
       "    }\n",
       "</style>\n",
       "<table border=\"1\" class=\"dataframe\">\n",
       "  <thead>\n",
       "    <tr style=\"text-align: right;\">\n",
       "      <th></th>\n",
       "      <th>movieId</th>\n",
       "      <th>title</th>\n",
       "    </tr>\n",
       "  </thead>\n",
       "  <tbody>\n",
       "    <tr>\n",
       "      <th>18</th>\n",
       "      <td>19</td>\n",
       "      <td>Ace Ventura: When Nature Calls (1995)</td>\n",
       "    </tr>\n",
       "    <tr>\n",
       "      <th>184</th>\n",
       "      <td>208</td>\n",
       "      <td>Waterworld (1995)</td>\n",
       "    </tr>\n",
       "    <tr>\n",
       "      <th>309</th>\n",
       "      <td>344</td>\n",
       "      <td>Ace Ventura: Pet Detective (1994)</td>\n",
       "    </tr>\n",
       "    <tr>\n",
       "      <th>519</th>\n",
       "      <td>586</td>\n",
       "      <td>Home Alone (1990)</td>\n",
       "    </tr>\n",
       "  </tbody>\n",
       "</table>\n",
       "</div>"
      ],
      "text/plain": [
       "     movieId                                  title\n",
       "18        19  Ace Ventura: When Nature Calls (1995)\n",
       "184      208                      Waterworld (1995)\n",
       "309      344      Ace Ventura: Pet Detective (1994)\n",
       "519      586                      Home Alone (1990)"
      ]
     },
     "execution_count": 423,
     "metadata": {},
     "output_type": "execute_result"
    }
   ],
   "source": [
    "f = movies.movieId.isin(rejection_ids)\n",
    "movies[f]"
   ]
  }
 ],
 "metadata": {
  "interpreter": {
   "hash": "549e5bb0bb4471d53be4b3db566810f015ccea70463906a655ff9efa05590359"
  },
  "kernelspec": {
   "display_name": "dm1",
   "language": "python",
   "name": "dm1"
  },
  "language_info": {
   "codemirror_mode": {
    "name": "ipython",
    "version": 3
   },
   "file_extension": ".py",
   "mimetype": "text/x-python",
   "name": "python",
   "nbconvert_exporter": "python",
   "pygments_lexer": "ipython3",
   "version": "3.10.0"
  },
  "orig_nbformat": 4
 },
 "nbformat": 4,
 "nbformat_minor": 2
}
